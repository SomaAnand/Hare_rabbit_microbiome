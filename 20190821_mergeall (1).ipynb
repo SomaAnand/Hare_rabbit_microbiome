{
 "cells": [
  {
   "cell_type": "code",
   "execution_count": 1,
   "metadata": {},
   "outputs": [],
   "source": [
    "#Once all the processed BLAST output TSVs are ready, merge all the files into one\n",
    "import pandas as pd\n",
    "import os"
   ]
  },
  {
   "cell_type": "code",
   "execution_count": 2,
   "metadata": {},
   "outputs": [],
   "source": [
    "#Choose the directory containing all the sample tsv files\n",
    "basedir = '/mnt/c/MinION_16S_barcodes/BLASTn/BLASTn/processed_tsv/'"
   ]
  },
  {
   "cell_type": "code",
   "execution_count": 14,
   "metadata": {},
   "outputs": [],
   "source": [
    "#Read as list\n",
    "read_tsv = [os.path.join(basedir, x) for x in os.listdir(basedir) if x.endswith('.tsv')]"
   ]
  },
  {
   "cell_type": "code",
   "execution_count": 15,
   "metadata": {},
   "outputs": [
    {
     "data": {
      "text/plain": [
       "21"
      ]
     },
     "execution_count": 15,
     "metadata": {},
     "output_type": "execute_result"
    }
   ],
   "source": [
    "len(read_tsv)"
   ]
  },
  {
   "cell_type": "code",
   "execution_count": 16,
   "metadata": {},
   "outputs": [],
   "source": [
    "mergedf = pd.read_csv(read_tsv[0], sep='\\t')"
   ]
  },
  {
   "cell_type": "code",
   "execution_count": 20,
   "metadata": {
    "scrolled": true
   },
   "outputs": [],
   "source": [
    "#Create a loop to merge all 21 files at once\n",
    "for file in read_tsv[1:]:\n",
    "    tmp_df = pd.read_csv(file, sep='\\t')\n",
    "    mergedf = pd.merge(mergedf,tmp_df, how = 'outer', left_on = 'primaryAccession', right_on = 'primaryAccession')\n",
    "mergedf.fillna(value=0, inplace=True)"
   ]
  },
  {
   "cell_type": "code",
   "execution_count": 22,
   "metadata": {},
   "outputs": [],
   "source": [
    "#Rename the sample column \n",
    "mergedf.rename(columns={'MF-143':'rabbit-143','MF-144': 'rabbit-144','MF-145':'rabbit-145','MF-154': 'rabbit-154','MF-157': 'hare-157','MF-138':'rabbit-138','MF-139': 'rabbit-139','MF-140':'rabbit-140','MF-141': 'rabbit-141','MF-142':'rabbit-142','MF-149': 'hare-149','MF-150':'hare-150','MF-151': 'hare-151','MF-152':'hare-152','MF-155': 'hare-155','MF-156':'hare-156','MF-136': 'hare-136','MF-148':'hare-148'}, inplace=True)"
   ]
  },
  {
   "cell_type": "code",
   "execution_count": 24,
   "metadata": {},
   "outputs": [],
   "source": [
    "#Rename the column with primary accession numbers\n",
    "mergedf.rename(columns={'primaryAccession': '#OTU ID'}, inplace=True)"
   ]
  },
  {
   "cell_type": "code",
   "execution_count": 26,
   "metadata": {},
   "outputs": [
    {
     "data": {
      "text/plain": [
       "75774"
      ]
     },
     "execution_count": 26,
     "metadata": {},
     "output_type": "execute_result"
    }
   ],
   "source": [
    "#Total number of unique sequence IDs\n",
    "mergedf['#OTU ID'].nunique()"
   ]
  },
  {
   "cell_type": "code",
   "execution_count": 27,
   "metadata": {},
   "outputs": [],
   "source": [
    "#Save the file in txt format\n",
    "mergedf.to_csv(os.path.join(basedir, '20190823_merged_minion_feature_table.txt'),sep='\\t',header=True,index =False)"
   ]
  },
  {
   "cell_type": "code",
   "execution_count": null,
   "metadata": {},
   "outputs": [],
   "source": [
    "#Import the feature table into qiime2 and filter based on frequency (remove all sequences with frequency less than 2)\n",
    "#Export the table and open it in jupyter notebook\n",
    "#Process the taxonomy file to include only the accession numbers found in the feature table"
   ]
  },
  {
   "cell_type": "code",
   "execution_count": 50,
   "metadata": {},
   "outputs": [],
   "source": [
    "basedir1 = '/mnt/c/MinION_16S_barcodes/QIIME_2/20190823_new/'"
   ]
  },
  {
   "cell_type": "code",
   "execution_count": 53,
   "metadata": {},
   "outputs": [],
   "source": [
    "#join path to the frequency filtered feature table\n",
    "read1_csv = os.path.join(basedir1, '20190823_downloadedfeaturetablefreq2.txt')\n",
    "taxa1_df = pd.read_csv(read1_csv, sep= '\\t')"
   ]
  },
  {
   "cell_type": "code",
   "execution_count": 55,
   "metadata": {},
   "outputs": [],
   "source": [
    "#Download the silva_132 taxonomy file from SILVA website and join path to the file\n",
    "basedir2 = '/mnt/c/MinION_16S_barcodes/BLASTn/BLASTn/taxonomy_files/'\n",
    "read2_csv = os.path.join(basedir2, 'taxmap_slv_ssu_ref_132-corrected.txt')\n",
    "taxa2_df = pd.read_csv(read2_csv, sep= '\\t')"
   ]
  },
  {
   "cell_type": "code",
   "execution_count": 57,
   "metadata": {},
   "outputs": [],
   "source": [
    "#Drop columns that are not required in the taxonomy map and eliminate duplicate Accession numbers\n",
    "taxa2_df.drop(columns=['start','stop','organismName','taxid'], inplace=True)\n",
    "taxa3_df = taxa2_df.drop_duplicates(subset='primaryAccession', keep='first', inplace=False)"
   ]
  },
  {
   "cell_type": "code",
   "execution_count": 59,
   "metadata": {},
   "outputs": [
    {
     "data": {
      "text/plain": [
       "2040731"
      ]
     },
     "execution_count": 59,
     "metadata": {},
     "output_type": "execute_result"
    }
   ],
   "source": [
    "#Total unique accession numbers found in the silva_132 taxonomy mapping file\n",
    "taxa3_df['primaryAccession'].nunique()"
   ]
  },
  {
   "cell_type": "code",
   "execution_count": 60,
   "metadata": {},
   "outputs": [],
   "source": [
    "#Merge the freaquency filtered dataframe with that of the taxonomy map file\n",
    "merged_df_2 = pd.merge(taxa1_df,taxa3_df, how = 'left', left_on = '#OTU ID', right_on = 'primaryAccession')\n",
    "merged_df_2.fillna(value='unassigned', inplace=True)"
   ]
  },
  {
   "cell_type": "code",
   "execution_count": 63,
   "metadata": {},
   "outputs": [],
   "source": [
    "#drop all the sample columns. Only the column with feature ID and taxonomy lineage is required\n",
    "merged_df_2.drop(columns=['primaryAccession', 'hare-136', 'rabbit-138', 'rabbit-139','rabbit-140','rabbit-141','rabbit-142','rabbit-143','rabbit-144','rabbit-145','rabbit-146','rabbit-147','hare-148','hare-149','hare-150','hare-151','hare-152','rabbit-153','rabbit-154','hare-155','hare-156','hare-157'],inplace=True)"
   ]
  },
  {
   "cell_type": "code",
   "execution_count": 65,
   "metadata": {},
   "outputs": [],
   "source": [
    "#rename the column names to QIIME2 compatible form\n",
    "merged_df_2.rename(columns={'path': 'Taxon'}, inplace=True)\n",
    "merged_df_2.rename(columns={'#OTU ID': 'Feature ID'}, inplace=True)"
   ]
  },
  {
   "cell_type": "code",
   "execution_count": 66,
   "metadata": {},
   "outputs": [],
   "source": [
    "#Save the file as TSV\n",
    "merged_df_2.to_csv(os.path.join(basedir2, '20190823_taxamap_minION_blast.tsv'),sep='\\t',header=True,index =False)"
   ]
  }
 ],
 "metadata": {
  "kernelspec": {
   "display_name": "Python 3",
   "language": "python",
   "name": "python3"
  },
  "language_info": {
   "codemirror_mode": {
    "name": "ipython",
    "version": 3
   },
   "file_extension": ".py",
   "mimetype": "text/x-python",
   "name": "python",
   "nbconvert_exporter": "python",
   "pygments_lexer": "ipython3",
   "version": "3.6.8"
  }
 },
 "nbformat": 4,
 "nbformat_minor": 2
}
