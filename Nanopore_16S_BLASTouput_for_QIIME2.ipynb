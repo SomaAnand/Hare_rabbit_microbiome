{
 "cells": [
  {
   "cell_type": "code",
   "execution_count": 1,
   "metadata": {},
   "outputs": [],
   "source": [
    "#Save the BLAST output file for each sample, open jupyter notebook for processing\n",
    "#Import pandas to process the reads into QIIME2 compatible format\n",
    "import pandas as pd\n",
    "import os"
   ]
  },
  {
   "cell_type": "code",
   "execution_count": 2,
   "metadata": {},
   "outputs": [],
   "source": [
    "#set the base directory to the blast output folder\n",
    "basedir = '/mnt/c/MinION_16S_barcodes/BLASTn/BLASTn/full_BLAST/'"
   ]
  },
  {
   "cell_type": "code",
   "execution_count": 3,
   "metadata": {},
   "outputs": [],
   "source": [
    "taxa = os.path.join(basedir, 'hare_136_sample13_21_barcode01.fa.SILVA.besthit.outfmt6')"
   ]
  },
  {
   "cell_type": "code",
   "execution_count": 4,
   "metadata": {},
   "outputs": [],
   "source": [
    "#read the BLAST output file assigning the coloumn headers\n",
    "taxa_df = pd.read_csv(taxa, sep= '\\t', names = [\"Query Seq-id\",\"Subject Seq-id\",\"evalue\",\"bitscore\",\"length\",\"pident\",\"nident\",\"subject-GI\",\"Subject_accession\",\"Subject_Taxonomy_ID\",\"Start_of_alignment\",\"End_of_alignment\"])"
   ]
  },
  {
   "cell_type": "code",
   "execution_count": 6,
   "metadata": {},
   "outputs": [],
   "source": [
    "#Drop the columns that are not required in the dataframe\n",
    "taxa_df.drop(columns=['Subject Seq-id', 'evalue', 'bitscore', 'length', 'pident','nident','subject-GI','Subject_Taxonomy_ID','Start_of_alignment','End_of_alignment'], inplace=True)"
   ]
  },
  {
   "cell_type": "code",
   "execution_count": 8,
   "metadata": {},
   "outputs": [],
   "source": [
    "#The subject_accession coloumn contains multiple accession numbers separated by \".\". Split the column into three using \".\" and assign it to a new dataframe\n",
    "taxa_df_1 = taxa_df[\"Subject_accession\"].str.split(\".\",n=2,expand = True)"
   ]
  },
  {
   "cell_type": "code",
   "execution_count": 10,
   "metadata": {},
   "outputs": [],
   "source": [
    "#rename the column\n",
    "taxa_df_1.columns = ['A', 'B', 'C']"
   ]
  },
  {
   "cell_type": "code",
   "execution_count": 12,
   "metadata": {},
   "outputs": [],
   "source": [
    "#concatenate the the old and the new dataframe together\n",
    "result = pd.concat([taxa_df, taxa_df_1], axis=1)"
   ]
  },
  {
   "cell_type": "code",
   "execution_count": 14,
   "metadata": {},
   "outputs": [],
   "source": [
    "#Only the first part of the subject_accession contains the main accession number. Retain only that and remove other columns\n",
    "result.drop(columns=['Subject_accession', 'B','C'], inplace=True)"
   ]
  },
  {
   "cell_type": "code",
   "execution_count": 16,
   "metadata": {},
   "outputs": [],
   "source": [
    "#Rename the column\n",
    "result.rename(columns={'A': 'primaryAccession'}, inplace=True)"
   ]
  },
  {
   "cell_type": "code",
   "execution_count": 18,
   "metadata": {},
   "outputs": [
    {
     "data": {
      "text/plain": [
       "19774"
      ]
     },
     "execution_count": 18,
     "metadata": {},
     "output_type": "execute_result"
    }
   ],
   "source": [
    "#Number of rows with unique accession number\n",
    "result['primaryAccession'].nunique()"
   ]
  },
  {
   "cell_type": "code",
   "execution_count": 110,
   "metadata": {
    "scrolled": true
   },
   "outputs": [],
   "source": [
    "#Use pivot table to group all the reads (Query Seq-id) with the same accession number. \n",
    "result_df=pd.pivot_table(result, values = 'Query Seq-id',index=['primaryAccession'],aggfunc=len,dropna=False)"
   ]
  },
  {
   "cell_type": "code",
   "execution_count": 111,
   "metadata": {},
   "outputs": [],
   "source": [
    "#Rename the column to sample ID\n",
    "result_df.rename(columns={'Query Seq-id': 'MF-136'}, inplace=True)"
   ]
  },
  {
   "cell_type": "code",
   "execution_count": 120,
   "metadata": {},
   "outputs": [],
   "source": [
    "#Save the file as tsv\n",
    "result_df.to_csv(os.path.join(basedir, '20190724_mf136_pivot_with_accessionnumber.tsv'),sep='\\t',header=True,index =True)"
   ]
  }
 ],
 "metadata": {
  "kernelspec": {
   "display_name": "Python 3",
   "language": "python",
   "name": "python3"
  },
  "language_info": {
   "codemirror_mode": {
    "name": "ipython",
    "version": 3
   },
   "file_extension": ".py",
   "mimetype": "text/x-python",
   "name": "python",
   "nbconvert_exporter": "python",
   "pygments_lexer": "ipython3",
   "version": "3.6.8"
  }
 },
 "nbformat": 4,
 "nbformat_minor": 2
}
